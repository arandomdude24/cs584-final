{
 "cells": [
  {
   "cell_type": "markdown",
   "metadata": {},
   "source": [
    "# CS 584 Final Project - Sentiment Classification with Pandemic Tweets\n",
    "\n",
    "#### Author: Ishaan Patel"
   ]
  },
  {
   "cell_type": "markdown",
   "metadata": {},
   "source": [
    "## Section 1: Data Processing"
   ]
  },
  {
   "cell_type": "markdown",
   "metadata": {},
   "source": [
    "### Section 1.1: Loading the data"
   ]
  },
  {
   "cell_type": "code",
   "execution_count": 441,
   "metadata": {},
   "outputs": [
    {
     "data": {
      "text/html": [
       "<div>\n",
       "<style scoped>\n",
       "    .dataframe tbody tr th:only-of-type {\n",
       "        vertical-align: middle;\n",
       "    }\n",
       "\n",
       "    .dataframe tbody tr th {\n",
       "        vertical-align: top;\n",
       "    }\n",
       "\n",
       "    .dataframe thead th {\n",
       "        text-align: right;\n",
       "    }\n",
       "</style>\n",
       "<table border=\"1\" class=\"dataframe\">\n",
       "  <thead>\n",
       "    <tr style=\"text-align: right;\">\n",
       "      <th></th>\n",
       "      <th>UserName</th>\n",
       "      <th>ScreenName</th>\n",
       "      <th>Location</th>\n",
       "      <th>TweetAt</th>\n",
       "      <th>OriginalTweet</th>\n",
       "      <th>Sentiment</th>\n",
       "    </tr>\n",
       "  </thead>\n",
       "  <tbody>\n",
       "    <tr>\n",
       "      <th>0</th>\n",
       "      <td>3799</td>\n",
       "      <td>48751</td>\n",
       "      <td>London</td>\n",
       "      <td>16-03-2020</td>\n",
       "      <td>@MeNyrbie @Phil_Gahan @Chrisitv https://t.co/i...</td>\n",
       "      <td>Neutral</td>\n",
       "    </tr>\n",
       "    <tr>\n",
       "      <th>1</th>\n",
       "      <td>3800</td>\n",
       "      <td>48752</td>\n",
       "      <td>UK</td>\n",
       "      <td>16-03-2020</td>\n",
       "      <td>advice Talk to your neighbours family to excha...</td>\n",
       "      <td>Positive</td>\n",
       "    </tr>\n",
       "    <tr>\n",
       "      <th>2</th>\n",
       "      <td>3801</td>\n",
       "      <td>48753</td>\n",
       "      <td>Vagabonds</td>\n",
       "      <td>16-03-2020</td>\n",
       "      <td>Coronavirus Australia: Woolworths to give elde...</td>\n",
       "      <td>Positive</td>\n",
       "    </tr>\n",
       "    <tr>\n",
       "      <th>3</th>\n",
       "      <td>3802</td>\n",
       "      <td>48754</td>\n",
       "      <td>NaN</td>\n",
       "      <td>16-03-2020</td>\n",
       "      <td>My food stock is not the only one which is emp...</td>\n",
       "      <td>Positive</td>\n",
       "    </tr>\n",
       "    <tr>\n",
       "      <th>4</th>\n",
       "      <td>3803</td>\n",
       "      <td>48755</td>\n",
       "      <td>NaN</td>\n",
       "      <td>16-03-2020</td>\n",
       "      <td>Me, ready to go at supermarket during the #COV...</td>\n",
       "      <td>Extremely Negative</td>\n",
       "    </tr>\n",
       "  </tbody>\n",
       "</table>\n",
       "</div>"
      ],
      "text/plain": [
       "   UserName  ScreenName   Location     TweetAt  \\\n",
       "0      3799       48751     London  16-03-2020   \n",
       "1      3800       48752         UK  16-03-2020   \n",
       "2      3801       48753  Vagabonds  16-03-2020   \n",
       "3      3802       48754        NaN  16-03-2020   \n",
       "4      3803       48755        NaN  16-03-2020   \n",
       "\n",
       "                                       OriginalTweet           Sentiment  \n",
       "0  @MeNyrbie @Phil_Gahan @Chrisitv https://t.co/i...             Neutral  \n",
       "1  advice Talk to your neighbours family to excha...            Positive  \n",
       "2  Coronavirus Australia: Woolworths to give elde...            Positive  \n",
       "3  My food stock is not the only one which is emp...            Positive  \n",
       "4  Me, ready to go at supermarket during the #COV...  Extremely Negative  "
      ]
     },
     "execution_count": 441,
     "metadata": {},
     "output_type": "execute_result"
    }
   ],
   "source": [
    "import pandas as pd\n",
    "\n",
    "train_data = pd.read_csv('train.csv', encoding='latin1')\n",
    "train_data.head(5)\n"
   ]
  },
  {
   "cell_type": "code",
   "execution_count": 442,
   "metadata": {},
   "outputs": [
    {
     "data": {
      "text/html": [
       "<div>\n",
       "<style scoped>\n",
       "    .dataframe tbody tr th:only-of-type {\n",
       "        vertical-align: middle;\n",
       "    }\n",
       "\n",
       "    .dataframe tbody tr th {\n",
       "        vertical-align: top;\n",
       "    }\n",
       "\n",
       "    .dataframe thead th {\n",
       "        text-align: right;\n",
       "    }\n",
       "</style>\n",
       "<table border=\"1\" class=\"dataframe\">\n",
       "  <thead>\n",
       "    <tr style=\"text-align: right;\">\n",
       "      <th></th>\n",
       "      <th>UserName</th>\n",
       "      <th>ScreenName</th>\n",
       "      <th>Location</th>\n",
       "      <th>TweetAt</th>\n",
       "      <th>OriginalTweet</th>\n",
       "    </tr>\n",
       "  </thead>\n",
       "  <tbody>\n",
       "    <tr>\n",
       "      <th>0</th>\n",
       "      <td>1956</td>\n",
       "      <td>46908</td>\n",
       "      <td>0.9921875</td>\n",
       "      <td>13-03-2020</td>\n",
       "      <td>COVID-19 might be presenting online shopping p...</td>\n",
       "    </tr>\n",
       "    <tr>\n",
       "      <th>1</th>\n",
       "      <td>711</td>\n",
       "      <td>45663</td>\n",
       "      <td>210</td>\n",
       "      <td>12/3/2020</td>\n",
       "      <td>My right wing coo coo father in law was tellin...</td>\n",
       "    </tr>\n",
       "    <tr>\n",
       "      <th>2</th>\n",
       "      <td>1346</td>\n",
       "      <td>46298</td>\n",
       "      <td>310</td>\n",
       "      <td>13-03-2020</td>\n",
       "      <td>I cannot decide if I am the smartest person in...</td>\n",
       "    </tr>\n",
       "    <tr>\n",
       "      <th>3</th>\n",
       "      <td>2204</td>\n",
       "      <td>47156</td>\n",
       "      <td>505</td>\n",
       "      <td>14-03-2020</td>\n",
       "      <td>Why are people stock piling   what s wrong wit...</td>\n",
       "    </tr>\n",
       "    <tr>\n",
       "      <th>4</th>\n",
       "      <td>1265</td>\n",
       "      <td>46217</td>\n",
       "      <td>21113</td>\n",
       "      <td>13-03-2020</td>\n",
       "      <td>Show me where the eggs are. That's all I need ...</td>\n",
       "    </tr>\n",
       "  </tbody>\n",
       "</table>\n",
       "</div>"
      ],
      "text/plain": [
       "   UserName  ScreenName   Location     TweetAt  \\\n",
       "0      1956       46908  0.9921875  13-03-2020   \n",
       "1       711       45663        210   12/3/2020   \n",
       "2      1346       46298        310  13-03-2020   \n",
       "3      2204       47156        505  14-03-2020   \n",
       "4      1265       46217      21113  13-03-2020   \n",
       "\n",
       "                                       OriginalTweet  \n",
       "0  COVID-19 might be presenting online shopping p...  \n",
       "1  My right wing coo coo father in law was tellin...  \n",
       "2  I cannot decide if I am the smartest person in...  \n",
       "3  Why are people stock piling   what s wrong wit...  \n",
       "4  Show me where the eggs are. That's all I need ...  "
      ]
     },
     "execution_count": 442,
     "metadata": {},
     "output_type": "execute_result"
    }
   ],
   "source": [
    "test_data = pd.read_csv('test.csv', encoding='latin1')\n",
    "test_data.head(5)"
   ]
  },
  {
   "cell_type": "code",
   "execution_count": 443,
   "metadata": {},
   "outputs": [
    {
     "name": "stdout",
     "output_type": "stream",
     "text": [
      "[3 4 4 4 0 4 4 3 4 2 3 1]\n",
      "The size of training set: 30867\n",
      "The size of validation set: 10290\n",
      "The size of test set: 3798\n"
     ]
    }
   ],
   "source": [
    "# split the data\n",
    "\n",
    "from sklearn.model_selection import train_test_split\n",
    "from sklearn.preprocessing import LabelEncoder\n",
    "from collections import defaultdict\n",
    "\n",
    "sentiments = ['Extremely Negative', 'Extremely Positive', 'Negative', 'Neutral', 'Positive']\n",
    "\n",
    "text_train = train_data['OriginalTweet'].values.astype(str)\n",
    "label_train = train_data['Sentiment'].values\n",
    "y = LabelEncoder().fit_transform(label_train)\n",
    "print(y[:12])\n",
    "\n",
    "\n",
    "text_test = test_data['OriginalTweet'].values.astype(str)\n",
    "\n",
    "[t.encode('utf-8') for t in text_train]\n",
    "[t.encode('utf-8') for t in text_test]\n",
    "\n",
    "text_train, text_valid, label_train, label_valid = train_test_split(text_train, y, test_size=0.25)\n",
    "\n",
    "print('The size of training set:', text_train.shape[0])\n",
    "print('The size of validation set:', text_valid.shape[0])\n",
    "print('The size of test set:', text_test.shape[0])"
   ]
  },
  {
   "cell_type": "markdown",
   "metadata": {},
   "source": [
    "### Section 1.2: Preprocessing of Data\n"
   ]
  },
  {
   "cell_type": "code",
   "execution_count": 444,
   "metadata": {},
   "outputs": [],
   "source": [
    "import re\n",
    "import string\n",
    "from string import punctuation\n",
    "from nltk.corpus import stopwords\n",
    "\n",
    "numbers = '0123456789'\n",
    "stop = stopwords.words('english') # english stopwords\n",
    "\n",
    "# preprocesses a givne text\n",
    "def removal(text):\n",
    "    # removes punctuation \n",
    "    def remove_punc(text):\n",
    "        for char in punctuation:\n",
    "            text = text.replace(char, '')\n",
    "        return text\n",
    "\n",
    "    # it removes numbers\n",
    "    def remove_numbers(text):\n",
    "        for num in numbers:\n",
    "            text = text.replace(num, '')\n",
    "        return text\n",
    "\n",
    "    # makes a string lower case\n",
    "    def lowercase(text):\n",
    "        text = text.lower()\n",
    "        return text\n",
    "\n",
    "    # remove links\n",
    "    def remove_links(text):\n",
    "        text = re.sub(r'(https|http)?:\\/\\/(\\w|\\.|\\/|\\?|\\=|\\&|\\%)*\\b', '', text)\n",
    "        return text\n",
    "\n",
    "    # remove twitter ids and hashtags\n",
    "    def remove_id(text):\n",
    "        words = text.split()\n",
    "        new_text = ''\n",
    "        for word in words:\n",
    "            if word[0] != '@' and word[0] != '#':\n",
    "                new_text += word + ' '\n",
    "        return new_text\n",
    "\n",
    "    # it removes stopwords\n",
    "    def remove_stopwords(text):\n",
    "        tokens = text.split()\n",
    "        for word in tokens:\n",
    "            if word in stop:\n",
    "                tokens.remove(word)\n",
    "        return ' '.join(tokens)\n",
    "\n",
    "    text = remove_id(text)\n",
    "    text = lowercase(text)\n",
    "    text = remove_links(text)\n",
    "    text = remove_punc(text)\n",
    "    text = remove_numbers(text)\n",
    "    text = remove_stopwords(text)\n",
    "    #text = re.sub(r'\\s+', ' ', text)\n",
    "    \n",
    "    return text\n",
    "\n",
    "def apply(arr):\n",
    "    for i in range(len(arr)):\n",
    "        arr[i] = removal(arr[i])\n",
    "    return arr"
   ]
  },
  {
   "cell_type": "markdown",
   "metadata": {},
   "source": [
    "### Section 1.3: Word Embeddings\n"
   ]
  },
  {
   "cell_type": "code",
   "execution_count": 445,
   "metadata": {},
   "outputs": [
    {
     "name": "stdout",
     "output_type": "stream",
     "text": [
      "['hi jeeturaj please amp tell people can get test done at affordable prices currently test rates r touching sky k is than salary many people mumbai amp maharash'\n",
      " 'your donations have able stock and prepare our drive thru food bank distribution tomorrow you would like volunteer please visit'\n",
      " 'hereâ\\x92s idea you a car live local a supermarket leave for elderly vulnerable wouldnâ\\x92t be great they somewhere local us young uns dedicate them iâ\\x92d happily donate cover more expensive prices'] [4 4 1]\n",
      "['super mercado en cuarentena groccery shopping panama cityâ'\n",
      " 'thereâ\\x92s plenty food the supply chain the profiteering products at top prices believe waitrose always pricey low offenders the sainsburys tescoâ\\x92s really coining in'\n",
      " 'following initial offers last week bank rolled additional consumer small business offers response the crisis offers include assistance small business loans overdraft fees learn more'] [4 2 0]\n",
      "['covid might presenting online shopping platforms greatest opportunity'\n",
      " 'right wing coo coo father law telling conservative hubby stock on bullets weeks worth food when gangs come looking food like ffs anxiety already thru roof yall chill tfuck'\n",
      " 'cannot decide i the smartest person the grocery store the dumbest']\n"
     ]
    }
   ],
   "source": [
    "x_train = apply(text_train)\n",
    "x_label = label_train\n",
    "y_train = apply(text_valid)\n",
    "y_label = label_valid\n",
    "z_test = apply(text_test)\n",
    "\n",
    "print(x_train[:3], x_label[:3])\n",
    "print(y_train[:3], y_label[:3])\n",
    "print(z_test[:3])\n"
   ]
  },
  {
   "cell_type": "code",
   "execution_count": 446,
   "metadata": {},
   "outputs": [
    {
     "name": "stdout",
     "output_type": "stream",
     "text": [
      "(30867, 41) (10290, 41)\n",
      "[   0    0    0    0    0    0    0    0    0    0    0    0    0    0\n",
      "    0  903   51   10  544    9   59   19  507  358   98 1426    4  628\n",
      "  507 1051  867 1391 2363  688   15  301 2797   68    9 3331   10]\n",
      "[   0    0    0    0    0    0    0    0    0    0    0    0    0    0\n",
      "    0    0    0    0    0    0    0    0    0    0    0    0    0    0\n",
      "    0    0    0    0    0    0    0    0    0    0 1183 3443   16]\n",
      "('the', 17933)\n",
      "('covid', 7848)\n",
      "('a', 6552)\n",
      "('prices', 5842)\n",
      "('store', 5007)\n",
      "4999\n"
     ]
    }
   ],
   "source": [
    "import numpy as np\n",
    "import tensorflow as tf\n",
    "from tensorflow import keras\n",
    "from keras.preprocessing.text import Tokenizer\n",
    "from keras.preprocessing.sequence import pad_sequences\n",
    "from collections import defaultdict\n",
    "\n",
    "# build the tokenizer for the training data\n",
    "tokenizer = Tokenizer(num_words=5000, lower=True, split=' ', char_level=False)\n",
    "tokenizer.fit_on_texts(x_train)\n",
    "embed_train = tokenizer.texts_to_sequences(x_train)\n",
    "\n",
    "#building the tokenizer for the validation data\n",
    "#tokenizer.fit_on_texts(y_train)\n",
    "embed_valid = tokenizer.texts_to_sequences(y_train)\n",
    "\n",
    "# padding the embeddings\n",
    "padded_train = pad_sequences(embed_train)\n",
    "padded_valid = pad_sequences(embed_valid)\n",
    "maxlength = max(padded_train.shape[1], padded_valid.shape[1])\n",
    "padded_train = pad_sequences(padded_train, maxlen=maxlength)\n",
    "padded_valid = pad_sequences(padded_valid, maxlen=maxlength)\n",
    "\n",
    "# need to build a vocab for the training data\n",
    "sentences = tokenizer.sequences_to_texts(embed_train)\n",
    "tokens = []\n",
    "for sentence in sentences:\n",
    "    tokens.append(sentence.split())\n",
    "\n",
    "tokens = list(map(' '.join, tokens))\n",
    "\n",
    "# building the vocab\n",
    "vocab = defaultdict(lambda: 0)\n",
    "for text in tokens:\n",
    "    words = text.split()\n",
    "    for word in words:\n",
    "        vocab[word] += 1\n",
    "vocab = dict(sorted(vocab.items(), key=lambda x: x[1], reverse=True))\n",
    "\n",
    "# sentence length should match up\n",
    "print(padded_train.shape, padded_valid.shape)\n",
    "print(padded_train[0])\n",
    "print(padded_valid[0])\n",
    "\n",
    "pairs = iter(vocab.items())\n",
    "for i in range(5):\n",
    "    print(next(pairs))\n",
    "\n",
    "print(len(vocab.keys()))\n",
    "\n",
    "padded_train = np.asarray(padded_train).astype(np.int)\n",
    "padded_valid = np.asarray(padded_valid).astype(np.int)\n",
    "x_label = np.asarray(x_label).astype(np.int)\n",
    "y_label = np.asarray(y_label).astype(np.int)\n"
   ]
  },
  {
   "cell_type": "markdown",
   "metadata": {},
   "source": [
    "## Section 2: Neural Networks"
   ]
  },
  {
   "cell_type": "markdown",
   "metadata": {},
   "source": [
    "### Section 2.1: Simple RNN"
   ]
  },
  {
   "cell_type": "code",
   "execution_count": 447,
   "metadata": {},
   "outputs": [],
   "source": [
    "# parameters to modify\n",
    "embed_size = 64\n",
    "epochs = 10\n",
    "batch_size = 64\n",
    "input = len(vocab.keys())+1\n",
    "lr = 0.001"
   ]
  },
  {
   "cell_type": "code",
   "execution_count": 448,
   "metadata": {},
   "outputs": [
    {
     "name": "stdout",
     "output_type": "stream",
     "text": [
      "Model: \"sequential_61\"\n",
      "_________________________________________________________________\n",
      "Layer (type)                 Output Shape              Param #   \n",
      "=================================================================\n",
      "embedding_60 (Embedding)     (None, None, 64)          320000    \n",
      "_________________________________________________________________\n",
      "lstm_55 (LSTM)               (None, 64)                33024     \n",
      "_________________________________________________________________\n",
      "dense_60 (Dense)             (None, 5)                 325       \n",
      "=================================================================\n",
      "Total params: 353,349\n",
      "Trainable params: 353,349\n",
      "Non-trainable params: 0\n",
      "_________________________________________________________________\n"
     ]
    }
   ],
   "source": [
    "from keras import layers\n",
    "from keras.layers import Embedding, LSTM, Dense, BatchNormalization\n",
    "from tensorflow.keras.optimizers import SGD\n",
    "\n",
    "# Build the simple RNN model\n",
    "model1 = keras.Sequential()\n",
    "\n",
    "# Embedding layer\n",
    "model1.add(Embedding(input_dim=input, output_dim = embed_size))\n",
    "\n",
    "# LSTM layer\n",
    "model1.add(LSTM(units=embed_size, dropout=0.5))\n",
    "\n",
    "#model1.add(BatchNormalization())\n",
    "# Dense layer\n",
    "model1.add(Dense(units=5, activation='softmax'))\n",
    "\n",
    "# compile the model\n",
    "model1.compile(optimizer='rmsprop', loss='sparse_categorical_crossentropy', metrics='accuracy')\n",
    "\n",
    "# show the model summary for the simple rnn\n",
    "model1.summary()\n"
   ]
  },
  {
   "cell_type": "code",
   "execution_count": 449,
   "metadata": {},
   "outputs": [
    {
     "name": "stdout",
     "output_type": "stream",
     "text": [
      "Epoch 1/10\n",
      "483/483 [==============================] - 37s 72ms/step - loss: 1.3103 - accuracy: 0.4261 - val_loss: 1.0607 - val_accuracy: 0.5799\n",
      "Epoch 2/10\n",
      "483/483 [==============================] - 23s 47ms/step - loss: 0.9465 - accuracy: 0.6264 - val_loss: 0.8868 - val_accuracy: 0.6637\n",
      "Epoch 3/10\n",
      "483/483 [==============================] - 16s 34ms/step - loss: 0.8015 - accuracy: 0.7017 - val_loss: 0.8335 - val_accuracy: 0.6983\n",
      "Epoch 4/10\n",
      "483/483 [==============================] - 16s 34ms/step - loss: 0.7276 - accuracy: 0.7388 - val_loss: 0.8008 - val_accuracy: 0.7057\n",
      "Epoch 5/10\n",
      "483/483 [==============================] - 16s 34ms/step - loss: 0.6849 - accuracy: 0.7584 - val_loss: 0.7557 - val_accuracy: 0.7346\n",
      "Epoch 6/10\n",
      "483/483 [==============================] - 17s 34ms/step - loss: 0.6553 - accuracy: 0.7744 - val_loss: 0.7338 - val_accuracy: 0.7457\n",
      "Epoch 7/10\n",
      "483/483 [==============================] - 27s 55ms/step - loss: 0.6355 - accuracy: 0.7834 - val_loss: 0.7203 - val_accuracy: 0.7518\n",
      "Epoch 8/10\n",
      "483/483 [==============================] - 48s 99ms/step - loss: 0.6128 - accuracy: 0.7927 - val_loss: 0.7300 - val_accuracy: 0.7536\n",
      "Epoch 9/10\n",
      "483/483 [==============================] - 31s 64ms/step - loss: 0.6011 - accuracy: 0.7976 - val_loss: 0.7138 - val_accuracy: 0.7563\n",
      "Epoch 10/10\n",
      "483/483 [==============================] - 31s 64ms/step - loss: 0.5844 - accuracy: 0.8047 - val_loss: 0.7449 - val_accuracy: 0.7504\n"
     ]
    }
   ],
   "source": [
    "# actually train the model\n",
    "hist = model1.fit(\n",
    "    x = padded_train,\n",
    "    y = x_label,\n",
    "    batch_size = batch_size,\n",
    "    epochs = epochs,\n",
    "    validation_data = (padded_valid, y_label)\n",
    ")"
   ]
  },
  {
   "cell_type": "code",
   "execution_count": 511,
   "metadata": {},
   "outputs": [
    {
     "data": {
      "image/png": "[encoded data removed]",
      "text/plain": [
       "<Figure size 432x288 with 1 Axes>"
      ]
     },
     "metadata": {
      "needs_background": "light"
     },
     "output_type": "display_data"
    }
   ],
   "source": [
    "from keras.callbacks import History\n",
    "import matplotlib.pyplot as plt\n",
    "\n",
    "# Grabbing info from the fit\n",
    "training_loss = hist.history['loss']\n",
    "validation_loss = hist.history['val_loss']\n",
    "epoch_range = range(1, epochs+1)\n",
    "\n",
    "# Plotting the data\n",
    "plt.figure()\n",
    "plt.plot(epoch_range, training_loss, label='Training Loss')\n",
    "plt.plot(epoch_range, validation_loss, label='Validation Loss')\n",
    "#plt.xticks(np.arange(2, 11, 2))\n",
    "plt.ylabel('Loss')\n",
    "plt.xlabel('Epoch Iteration')\n",
    "plt.title('Simple RNN Loss')\n",
    "plt.legend()\n",
    "plt.show()"
   ]
  },
  {
   "cell_type": "code",
   "execution_count": 453,
   "metadata": {},
   "outputs": [
    {
     "name": "stdout",
     "output_type": "stream",
     "text": [
      "Class labels for simple RNN: [1 2 3 2 3 2 2 3 1 4]\n",
      "Sentiments for simple RNN: \n",
      "['Extremely Positive', 'Negative', 'Neutral', 'Negative', 'Neutral', 'Negative', 'Negative', 'Neutral', 'Extremely Positive', 'Positive']\n"
     ]
    }
   ],
   "source": [
    "# Obtain predictions\n",
    "clean_test = tokenizer.texts_to_sequences(z_test)\n",
    "pad_test = pad_sequences(clean_test)\n",
    "padded_test = pad_sequences(clean_test, maxlen=max(pad_test.shape[1], maxlength))\n",
    "padded_test = np.asarray(padded_test).astype(np.int)\n",
    "predictions = model1.predict(padded_test)\n",
    "classes = np.argmax(predictions, axis=1)\n",
    "mood1 = []\n",
    "\n",
    "for i in range(len(classes)):\n",
    "    mood1.append(sentiments[classes[i]])\n",
    "\n",
    "print('Class labels for simple RNN: ' + str(classes[:10]))\n",
    "\n",
    "print('Sentiments for simple RNN: \\n' + str(mood1[:10]))\n"
   ]
  },
  {
   "cell_type": "code",
   "execution_count": null,
   "metadata": {},
   "outputs": [],
   "source": [
    "import csv\n",
    "\n",
    "# create CSV file for Kaggle submission\n",
    "# Note encoding problems so I manually pasted tweets in\n",
    "row_list = [['OriginalTweet', 'Sentiment']]\n",
    "tweets = test_data['OriginalTweet'].values\n",
    "for i in range(len(mood1)):\n",
    "    row = [None, mood1[i]]\n",
    "    row_list.append(row)\n",
    "\n",
    "print(row_list[1:5])\n",
    "\n",
    "with open('submission1.csv', 'w', newline='', encoding='utf-8') as file:\n",
    "    writer = csv.writer(file)\n",
    "    writer.writerows(row_list)\n"
   ]
  },
  {
   "cell_type": "code",
   "execution_count": 456,
   "metadata": {},
   "outputs": [
    {
     "name": "stdout",
     "output_type": "stream",
     "text": [
      "F1 Score for simple RNN: 0.8094\n"
     ]
    }
   ],
   "source": [
    "# f score obtained from kaggle, as they did not provide test data labels\n",
    "score1 = 0.80940\n",
    "print('F1 Score for simple RNN: ' + str(score1))"
   ]
  },
  {
   "cell_type": "markdown",
   "metadata": {},
   "source": [
    "### Section 2.2: Bidirectional RNN"
   ]
  },
  {
   "cell_type": "code",
   "execution_count": 457,
   "metadata": {},
   "outputs": [],
   "source": [
    "# parameters to modify\n",
    "embed_size = 64\n",
    "epochs = 10\n",
    "batch_size = 64\n",
    "input = len(vocab.keys())+1\n",
    "lr = 0.001"
   ]
  },
  {
   "cell_type": "code",
   "execution_count": 458,
   "metadata": {},
   "outputs": [
    {
     "name": "stdout",
     "output_type": "stream",
     "text": [
      "Model: \"sequential_62\"\n",
      "_________________________________________________________________\n",
      "Layer (type)                 Output Shape              Param #   \n",
      "=================================================================\n",
      "embedding_61 (Embedding)     (None, None, 64)          320000    \n",
      "_________________________________________________________________\n",
      "bidirectional_6 (Bidirection (None, 128)               66048     \n",
      "_________________________________________________________________\n",
      "dense_61 (Dense)             (None, 5)                 645       \n",
      "=================================================================\n",
      "Total params: 386,693\n",
      "Trainable params: 386,693\n",
      "Non-trainable params: 0\n",
      "_________________________________________________________________\n"
     ]
    }
   ],
   "source": [
    "from keras import layers\n",
    "from keras.layers import Embedding, LSTM, Dense, BatchNormalization, Bidirectional\n",
    "from tensorflow.keras.optimizers import SGD\n",
    "\n",
    "# build the bidirectional RNN\n",
    "model2 = keras.Sequential()\n",
    "model2.add(Embedding(input, embed_size))\n",
    "model2.add(Bidirectional(LSTM(embed_size, dropout=0.3)))\n",
    "model2.add(Dense(5, activation='softmax'))\n",
    "model2.compile(optimizer='rmsprop', loss='sparse_categorical_crossentropy', metrics=['accuracy'])\n",
    "model2.summary()"
   ]
  },
  {
   "cell_type": "code",
   "execution_count": 459,
   "metadata": {},
   "outputs": [
    {
     "name": "stdout",
     "output_type": "stream",
     "text": [
      "Epoch 1/10\n",
      "483/483 [==============================] - 89s 159ms/step - loss: 1.2629 - accuracy: 0.4529 - val_loss: 1.0401 - val_accuracy: 0.5534\n",
      "Epoch 2/10\n",
      "483/483 [==============================] - 71s 148ms/step - loss: 0.8611 - accuracy: 0.6697 - val_loss: 0.8286 - val_accuracy: 0.6884\n",
      "Epoch 3/10\n",
      "483/483 [==============================] - 71s 147ms/step - loss: 0.7377 - accuracy: 0.7337 - val_loss: 0.8343 - val_accuracy: 0.6841\n",
      "Epoch 4/10\n",
      "483/483 [==============================] - 83s 171ms/step - loss: 0.6761 - accuracy: 0.7646 - val_loss: 0.8020 - val_accuracy: 0.7152\n",
      "Epoch 5/10\n",
      "483/483 [==============================] - 82s 169ms/step - loss: 0.6365 - accuracy: 0.7840 - val_loss: 0.7572 - val_accuracy: 0.7351\n",
      "Epoch 6/10\n",
      "483/483 [==============================] - 78s 162ms/step - loss: 0.6082 - accuracy: 0.7939 - val_loss: 0.7386 - val_accuracy: 0.7416\n",
      "Epoch 7/10\n",
      "483/483 [==============================] - 82s 170ms/step - loss: 0.5827 - accuracy: 0.8059 - val_loss: 0.7252 - val_accuracy: 0.7519\n",
      "Epoch 8/10\n",
      "483/483 [==============================] - 87s 180ms/step - loss: 0.5573 - accuracy: 0.8151 - val_loss: 0.7485 - val_accuracy: 0.7457\n",
      "Epoch 9/10\n",
      "483/483 [==============================] - 85s 177ms/step - loss: 0.5359 - accuracy: 0.8211 - val_loss: 0.7856 - val_accuracy: 0.7338\n",
      "Epoch 10/10\n",
      "483/483 [==============================] - 86s 178ms/step - loss: 0.5115 - accuracy: 0.8281 - val_loss: 0.7694 - val_accuracy: 0.7463\n"
     ]
    }
   ],
   "source": [
    "hist2 = model2.fit(\n",
    "    x = padded_train,\n",
    "    y = x_label,\n",
    "    batch_size = batch_size,\n",
    "    epochs = epochs,\n",
    "    validation_data = (padded_valid, y_label)\n",
    ")"
   ]
  },
  {
   "cell_type": "code",
   "execution_count": 512,
   "metadata": {},
   "outputs": [
    {
     "data": {
      "image/png": "[encoded data removed]",
      "text/plain": [
       "<Figure size 432x288 with 1 Axes>"
      ]
     },
     "metadata": {
      "needs_background": "light"
     },
     "output_type": "display_data"
    }
   ],
   "source": [
    "# Grabbing info from the fit\n",
    "training_loss = hist2.history['loss']\n",
    "validation_loss = hist2.history['val_loss']\n",
    "epoch_range = range(1, epochs+1)\n",
    "\n",
    "# Plotting the data\n",
    "plt.figure()\n",
    "plt.plot(epoch_range, training_loss, label='Training Loss')\n",
    "plt.plot(epoch_range, validation_loss, label='Validation Loss')\n",
    "plt.ylabel('Loss')\n",
    "plt.xlabel('Epoch Iteration')\n",
    "plt.title('Bidirectional RNN Loss')\n",
    "plt.legend()\n",
    "plt.show()"
   ]
  },
  {
   "cell_type": "code",
   "execution_count": 491,
   "metadata": {},
   "outputs": [
    {
     "name": "stdout",
     "output_type": "stream",
     "text": [
      "Class labels for Bidirectional RNN: [1 0 3 2 3 2 2 3 1 4]\n",
      "Sentiments for Bidrectional RNN: \n",
      "['Extremely Positive', 'Extremely Negative', 'Neutral', 'Negative', 'Neutral', 'Negative', 'Negative', 'Neutral', 'Extremely Positive', 'Positive']\n"
     ]
    }
   ],
   "source": [
    "# Obtain predictions\n",
    "clean_test = tokenizer.texts_to_sequences(z_test)\n",
    "pad_test = pad_sequences(clean_test)\n",
    "padded_test = pad_sequences(clean_test, maxlen=max(pad_test.shape[1], maxlength))\n",
    "padded_test = np.asarray(padded_test).astype(np.int)\n",
    "predictions = model2.predict(padded_test)\n",
    "classes = np.argmax(predictions, axis=1)\n",
    "mood2 = []\n",
    "\n",
    "for i in range(len(classes)):\n",
    "    mood2.append(sentiments[classes[i]])\n",
    "\n",
    "\n",
    "print('Class labels for Bidirectional RNN: ' + str(classes[:10]))\n",
    "print('Sentiments for Bidrectional RNN: \\n' + str(mood2[:10]))\n"
   ]
  },
  {
   "cell_type": "code",
   "execution_count": 464,
   "metadata": {},
   "outputs": [
    {
     "name": "stdout",
     "output_type": "stream",
     "text": [
      "[[None, 'Extremely Positive'], [None, 'Extremely Negative'], [None, 'Neutral'], [None, 'Negative']]\n"
     ]
    }
   ],
   "source": [
    "# create CSV file for Kaggle submission\n",
    "# Note encoding utf-8 problems so I manually pasted tweets in\n",
    "row_list = [['OriginalTweet', 'Sentiment']]\n",
    "for i in range(len(mood2)):\n",
    "    row = [None, mood2[i]]\n",
    "    row_list.append(row)\n",
    "\n",
    "print(row_list[1:5])\n",
    "\n",
    "with open('submission2.csv', 'w', newline='', encoding='utf-8') as file:\n",
    "    writer = csv.writer(file)\n",
    "    writer.writerows(row_list)"
   ]
  },
  {
   "cell_type": "code",
   "execution_count": 465,
   "metadata": {},
   "outputs": [
    {
     "name": "stdout",
     "output_type": "stream",
     "text": [
      "F1 Score for Bidrectional RNN: 0.80106\n"
     ]
    }
   ],
   "source": [
    "# f score obtained from kaggle, as they did not provide test data labels\n",
    "score2 = 0.80106\n",
    "print('F1 Score for Bidrectional RNN: ' + str(score2))"
   ]
  },
  {
   "cell_type": "markdown",
   "metadata": {},
   "source": [
    "### Section 2.3: 1D Covnvulational Neural Network"
   ]
  },
  {
   "cell_type": "code",
   "execution_count": 466,
   "metadata": {},
   "outputs": [],
   "source": [
    "# parameters to modify\n",
    "embed_size = 64\n",
    "epochs = 10\n",
    "batch_size = 64\n",
    "input = len(vocab.keys()) + 1\n",
    "lr = 0.001"
   ]
  },
  {
   "cell_type": "code",
   "execution_count": 503,
   "metadata": {},
   "outputs": [
    {
     "name": "stdout",
     "output_type": "stream",
     "text": [
      "Model: \"sequential_77\"\n",
      "_________________________________________________________________\n",
      "Layer (type)                 Output Shape              Param #   \n",
      "=================================================================\n",
      "embedding_80 (Embedding)     (None, 41, 41)            205000    \n",
      "_________________________________________________________________\n",
      "dropout_5 (Dropout)          (None, 41, 41)            0         \n",
      "_________________________________________________________________\n",
      "conv1d_18 (Conv1D)           (None, 22, 64)            52544     \n",
      "_________________________________________________________________\n",
      "global_max_pooling1d_13 (Glo (None, 64)                0         \n",
      "_________________________________________________________________\n",
      "dense_80 (Dense)             (None, 256)               16640     \n",
      "_________________________________________________________________\n",
      "dropout_6 (Dropout)          (None, 256)               0         \n",
      "_________________________________________________________________\n",
      "dense_81 (Dense)             (None, 5)                 1285      \n",
      "=================================================================\n",
      "Total params: 275,469\n",
      "Trainable params: 275,469\n",
      "Non-trainable params: 0\n",
      "_________________________________________________________________\n"
     ]
    }
   ],
   "source": [
    "from keras.layers import GlobalMaxPooling1D, Conv1D, Conv2D, Input, Reshape, MaxPool2D, Concatenate, Flatten, Dropout\n",
    "from keras import regularizers\n",
    "from keras.models import Model\n",
    "# specify the input of each layer and output of each layer\n",
    "\n",
    "model3 = keras.Sequential()\n",
    "model3.add(Embedding(input, maxlength, input_length=maxlength, trainable=True))\n",
    "model3.add(Dropout(0.4))\n",
    "model3.add(Conv1D(filters=embed_size, kernel_size=20, padding='valid', activation='relu', strides=1, \n",
    "                    kernel_regularizer=regularizers.l1_l2(l1=2e-3, l2=2e-3),\n",
    "                    bias_regularizer=regularizers.l2(2e-3)))\n",
    "model3.add(GlobalMaxPooling1D())\n",
    "model3.add(Dense(256, activation='relu'))\n",
    "model3.add(Dropout(0.2))\n",
    "model3.add(Dense(5, activation='softmax'))\n",
    "model3.summary()\n",
    "model3.compile(optimizer='rmsprop', loss='sparse_categorical_crossentropy', metrics=['accuracy'])"
   ]
  },
  {
   "cell_type": "code",
   "execution_count": 504,
   "metadata": {},
   "outputs": [
    {
     "name": "stdout",
     "output_type": "stream",
     "text": [
      "Epoch 1/10\n",
      "965/965 [==============================] - 15s 14ms/step - loss: 1.6165 - accuracy: 0.3285 - val_loss: 1.4647 - val_accuracy: 0.4126\n",
      "Epoch 2/10\n",
      "965/965 [==============================] - 15s 15ms/step - loss: 1.4131 - accuracy: 0.4520 - val_loss: 1.3254 - val_accuracy: 0.5274\n",
      "Epoch 3/10\n",
      "965/965 [==============================] - 15s 16ms/step - loss: 1.2300 - accuracy: 0.5706 - val_loss: 1.1588 - val_accuracy: 0.6209\n",
      "Epoch 4/10\n",
      "965/965 [==============================] - 15s 16ms/step - loss: 1.0916 - accuracy: 0.6463 - val_loss: 1.0746 - val_accuracy: 0.6570\n",
      "Epoch 5/10\n",
      "965/965 [==============================] - 16s 17ms/step - loss: 1.0162 - accuracy: 0.6820 - val_loss: 1.0567 - val_accuracy: 0.6675\n",
      "Epoch 6/10\n",
      "965/965 [==============================] - 14s 15ms/step - loss: 0.9718 - accuracy: 0.7060 - val_loss: 1.0483 - val_accuracy: 0.6893\n",
      "Epoch 7/10\n",
      "965/965 [==============================] - 15s 16ms/step - loss: 0.9443 - accuracy: 0.7191 - val_loss: 1.0400 - val_accuracy: 0.6805\n",
      "Epoch 8/10\n",
      "965/965 [==============================] - 14s 15ms/step - loss: 0.9276 - accuracy: 0.7276 - val_loss: 0.9724 - val_accuracy: 0.7120\n",
      "Epoch 9/10\n",
      "965/965 [==============================] - 14s 15ms/step - loss: 0.9193 - accuracy: 0.7345 - val_loss: 0.9685 - val_accuracy: 0.7090\n",
      "Epoch 10/10\n",
      "965/965 [==============================] - 15s 15ms/step - loss: 0.9073 - accuracy: 0.7403 - val_loss: 0.9982 - val_accuracy: 0.7209\n"
     ]
    }
   ],
   "source": [
    "hist3 = model3.fit(\n",
    "    x = padded_train,\n",
    "    y = x_label,\n",
    "    epochs = epochs,\n",
    "    validation_data = (padded_valid, y_label)\n",
    ")"
   ]
  },
  {
   "cell_type": "code",
   "execution_count": 513,
   "metadata": {},
   "outputs": [
    {
     "data": {
      "image/png": "[encoded data removed]",
      "text/plain": [
       "<Figure size 432x288 with 1 Axes>"
      ]
     },
     "metadata": {
      "needs_background": "light"
     },
     "output_type": "display_data"
    }
   ],
   "source": [
    "# Grabbing info from the fit\n",
    "training_loss = hist3.history['loss']\n",
    "validation_loss = hist3.history['val_loss']\n",
    "epoch_range = range(1, epochs+1)\n",
    "\n",
    "# Plotting the data\n",
    "plt.figure()\n",
    "plt.plot(epoch_range, training_loss, label='Training Loss')\n",
    "plt.plot(epoch_range, validation_loss, label='Validation Loss')\n",
    "plt.ylabel('Loss')\n",
    "plt.xlabel('Epoch Iteration')\n",
    "plt.title('1D CNN Loss')\n",
    "plt.legend()\n",
    "plt.show()"
   ]
  },
  {
   "cell_type": "code",
   "execution_count": 509,
   "metadata": {},
   "outputs": [
    {
     "name": "stdout",
     "output_type": "stream",
     "text": [
      "Class labels for 1D CNN: [4 2 3 2 3 2 2 3 1 3]\n",
      "Sentiments for 1D CNN: \n",
      "['Positive', 'Negative', 'Neutral', 'Negative', 'Neutral', 'Negative', 'Negative', 'Neutral', 'Extremely Positive', 'Neutral']\n"
     ]
    }
   ],
   "source": [
    "# Obtain predictions\n",
    "clean_test = tokenizer.texts_to_sequences(z_test)\n",
    "pad_test = pad_sequences(clean_test)\n",
    "padded_test = pad_sequences(clean_test, maxlen=max(pad_test.shape[1], maxlength))\n",
    "padded_test = np.asarray(padded_test).astype(np.int)\n",
    "predictions = model3.predict(padded_test)\n",
    "classes = np.argmax(predictions, axis=1)\n",
    "mood3 = []\n",
    "\n",
    "for i in range(len(classes)):\n",
    "    mood3.append(sentiments[classes[i]])\n",
    "\n",
    "\n",
    "print('Class labels for 1D CNN: ' + str(classes[:10]))\n",
    "print('Sentiments for 1D CNN: \\n' + str(mood3[:10]))"
   ]
  },
  {
   "cell_type": "code",
   "execution_count": 508,
   "metadata": {},
   "outputs": [
    {
     "name": "stdout",
     "output_type": "stream",
     "text": [
      "[[None, 'Positive'], [None, 'Negative'], [None, 'Neutral'], [None, 'Negative']]\n"
     ]
    }
   ],
   "source": [
    "# create CSV file for Kaggle submission\n",
    "# Note encoding utf-8 problems so I manually pasted tweets in\n",
    "row_list = [['OriginalTweet', 'Sentiment']]\n",
    "for i in range(len(mood3)):\n",
    "    row = [None, mood3[i]]\n",
    "    row_list.append(row)\n",
    "\n",
    "print(row_list[1:5])\n",
    "\n",
    "with open('submission3.csv', 'w', newline='', encoding='utf-8') as file:\n",
    "    writer = csv.writer(file)\n",
    "    writer.writerows(row_list)"
   ]
  },
  {
   "cell_type": "code",
   "execution_count": 510,
   "metadata": {},
   "outputs": [
    {
     "name": "stdout",
     "output_type": "stream",
     "text": [
      "F1 Score for 1D CNN: 0.78292\n"
     ]
    }
   ],
   "source": [
    "# f score obtained from kaggle, as they did not provide test data labels\n",
    "score3 = 0.78292\n",
    "print('F1 Score for 1D CNN: ' + str(score3))"
   ]
  }
 ],
 "metadata": {
  "interpreter": {
   "hash": "6535ce36c4e1d5eb74f42060d0c968ada0d84801d60afd303cbda403db97c769"
  },
  "kernelspec": {
   "display_name": "Python 3.9.9 64-bit (windows store)",
   "language": "python",
   "name": "python3"
  },
  "language_info": {
   "codemirror_mode": {
    "name": "ipython",
    "version": 3
   },
   "file_extension": ".py",
   "mimetype": "text/x-python",
   "name": "python",
   "nbconvert_exporter": "python",
   "pygments_lexer": "ipython3",
   "version": "3.9.9"
  },
  "orig_nbformat": 4
 },
 "nbformat": 4,
 "nbformat_minor": 2
}
